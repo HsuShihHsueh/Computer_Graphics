{
  "nbformat": 4,
  "nbformat_minor": 0,
  "metadata": {
    "colab": {
      "name": "openGL_clock.ipynb",
      "provenance": []
    },
    "kernelspec": {
      "name": "python3",
      "display_name": "Python 3"
    },
    "language_info": {
      "name": "python"
    },
    "accelerator": "GPU"
  },
  "cells": [
    {
      "cell_type": "code",
      "metadata": {
        "colab": {
          "base_uri": "https://localhost:8080/"
        },
        "cellView": "form",
        "id": "JQ19_LykbMZA",
        "outputId": "b5e3c2ec-9c7f-4ba1-d845-ae780010124b"
      },
      "source": [
        "#@title <font color='yellow'>Install package\n",
        "%%capture cap --no-stderr\n",
        "import sys\n",
        "!pip uninstall tensorflow -y\n",
        "print('pip uninstall tensorflow -y ...',file=sys.stderr)\n",
        "!pip uninstall tensorflow-gpu -y\n",
        "print('pip uninstall tensorflow-gpu -y ...',file=sys.stderr)\n",
        "!pip install tensorflow==1.15\n",
        "print('pip install tensorflow==1.15 ...',file=sys.stderr)\n",
        "!pip install tensorflow-gpu==1.15\n",
        "print('pip install tensorflow-gpu==1.15 ...',file=sys.stderr)\n",
        "!pip install -q lucid\n",
        "print('pip install -q lucid ...',file=sys.stderr)"
      ],
      "execution_count": 1,
      "outputs": [
        {
          "output_type": "stream",
          "name": "stderr",
          "text": [
            "pip uninstall tensorflow -y ...\n",
            "pip uninstall tensorflow-gpu -y ...\n",
            "pip install tensorflow==1.15 ...\n",
            "pip install tensorflow-gpu==1.15 ...\n",
            "pip install -q lucid ...\n"
          ]
        }
      ]
    },
    {
      "cell_type": "code",
      "metadata": {
        "cellView": "form",
        "id": "j69YNIwLlQaO"
      },
      "source": [
        "#@title <font color='yellow'>3D model data\n",
        "VertexList = [[-0.400000,0.400000,0.0],\n",
        "[-0.282946,0.388471,0.0],\n",
        "[-0.170390,0.354328,0.0],\n",
        "[-0.066658,0.298882,0.0],\n",
        "[0.024264,0.224264,0.0],\n",
        "[0.098882,0.133342,0.0],\n",
        "[0.154328,0.029610,0.0],\n",
        "[0.188471,-0.082946,0.0],\n",
        "[0.200000,-0.200000,0.0],\n",
        "[0.188471,-0.317054,0.0],\n",
        "[0.154328,-0.429610,0.0],\n",
        "[0.098882,-0.533342,0.0],\n",
        "[0.024264,-0.624264,0.0],\n",
        "[-0.066658,-0.698882,0.0],\n",
        "[-0.170390,-0.754328,0.0],\n",
        "[-0.282946,-0.788471,0.0],\n",
        "[-0.400000,-0.800000,0.0],\n",
        "[-0.517054,-0.788471,0.0],\n",
        "[-0.629610,-0.754328,0.0],\n",
        "[-0.733342,-0.698882,0.0],\n",
        "[-0.824264,-0.624264,0.0],\n",
        "[-0.898882,-0.533342,0.0],\n",
        "[-0.954328,-0.429610,0.0],\n",
        "[-0.988471,-0.317054,0.0],\n",
        "[-1.000000,-0.200000,0.0],\n",
        "[-0.988471,-0.082946,0.0],\n",
        "[-0.954328,0.029610,0.0],\n",
        "[-0.898882,0.133342,0.0],\n",
        "[-0.824264,0.224264,0.0],\n",
        "[-0.733342,0.298882,0.0],\n",
        "[-0.629610,0.354328,0.0],\n",
        "[-0.517054,0.388471,0.0],\n",
        "[-0.500000,0.123431,0.0],\n",
        "[-0.443431,0.500000,0.0],\n",
        "[-0.556569,0.500000,0.0],\n",
        "[-0.500000,0.556569,0.0],\n",
        "[0.300000,0.050503,0.0],\n",
        "[0.849497,0.100000,0.0],\n",
        "[0.250502,0.100000,0.0],\n",
        "[0.300000,0.149498,0.0]]\n",
        "\n",
        "# 26 triangles\n",
        "BodyIndex=[[26,18,10],\n",
        "[2,1,0],\n",
        "[0,31,2],\n",
        "[31,30,2],\n",
        "[30,29,28],\n",
        "[28,27,26],\n",
        "[26,25,22],\n",
        "[25,24,22],\n",
        "[24,23,22],\n",
        "[22,21,20],\n",
        "[20,19,18],\n",
        "[18,17,14],\n",
        "[17,16,14],\n",
        "[16,15,14],\n",
        "[14,13,12],\n",
        "[12,11,10],\n",
        "[10,9,6],\n",
        "[9,8,6],\n",
        "[8,7,6],\n",
        "[6,5,4],\n",
        "[4,3,2],\n",
        "[30,28,26],\n",
        "[22,20,26],\n",
        "[20,18,26],\n",
        "[14,12,18],\n",
        "[12,10,18],\n",
        "[6,4,10],\n",
        "[4,2,10],\n",
        "[2,30,26],\n",
        "[2,26,10]]\n",
        "\n",
        "# 2 triangles\n",
        "hourHandIndex=[[33,34,32],[33,35,34]]\n",
        "\n",
        "# 2 triangles\n",
        "minuteHandIndex=[[36,39,38],[36,37,39]]\n",
        "\n",
        "### begin translation matrix\n",
        "pos_body = [-0.4, -0.2,  0]\n",
        "pos_hour = [-0.5,  0.5,  0]\n",
        "pos_min  = [ 0.3,  0.1,  0]\n",
        "pos_ori  = [ 0.0,  0,  0]"
      ],
      "execution_count": 2,
      "outputs": []
    },
    {
      "cell_type": "code",
      "metadata": {
        "id": "UncifEwEYgGZ"
      },
      "source": [
        "# import package\n",
        "import lucid.misc.io.showing as show\n",
        "import ctypes.util # for import lucid.misc bug\n",
        "from lucid.misc.gl.glcontext import create_opengl_context\n",
        "from OpenGL.GL import *\n",
        "from OpenGL.GLU import *\n",
        "import numpy as np\n",
        "import time\n",
        "from IPython.display import clear_output"
      ],
      "execution_count": 3,
      "outputs": []
    },
    {
      "cell_type": "code",
      "metadata": {
        "id": "bZneN6Jcil9w"
      },
      "source": [
        "class mat(np.ndarray):\n",
        "    def __mul__(self,m2): \t\t\t# overload a*b\n",
        "        if type(m2)==mat:  \t\t\t# a[3x3] * b[3x3]\n",
        "            return np.dot(self,m2)\n",
        "        else:\t\t\t\t\t\t# a[3x3] * b[3x1]\n",
        "            return list(np.dot(np.array(self),np.array(m2[:2]+[1]).reshape([3,1])).flatten())\n",
        "    def new(matrix):\n",
        "        if type(matrix)==list:\n",
        "            matrix = np.array(matrix)\n",
        "        re = mat(matrix.shape)\n",
        "        if len(re.shape)==1:\n",
        "            re[:] = matrix[:]\n",
        "        else:\n",
        "            re[:,:] = matrix[:,:]        \n",
        "        return re\n",
        "    def trans(pos): \t\t\t\t# offset = -position \n",
        "        re = mat.new([\n",
        "        [1,0,-pos[0]],\n",
        "        [0,1,-pos[1]],\n",
        "        [0,0,1]])\n",
        "        return re \n",
        "    def rotate(radius):\n",
        "        re = mat.new([\n",
        "        [np.cos(radius),-np.sin(radius),0],\n",
        "        [np.sin(radius), np.cos(radius),0],\n",
        "        [      0,        0,1]])\n",
        "        return re        \n",
        "\n",
        "\n",
        "def draw(color,object,pos,radius):\n",
        "    glColor3f(color[0],color[1],color[2])\n",
        "    glBegin(GL_TRIANGLES)\n",
        "    for fID in object:\n",
        "    \t# p' = S.T.p\n",
        "        glVertex3fv(mat.rotate(radius)*mat.trans(pos)*VertexList[fID[0]])\n",
        "        glVertex3fv(mat.rotate(radius)*mat.trans(pos)*VertexList[fID[1]])\n",
        "        glVertex3fv(mat.rotate(radius)*mat.trans(pos)*VertexList[fID[2]])\n",
        "    glEnd()\n",
        "\n",
        "def drawBody():\n",
        "\tdraw(color=[1,1,1],object=BodyIndex,pos=pos_body,radius=0)\n",
        "def drawhourHand():\n",
        "\tdraw(color=[1,0,0],object=hourHandIndex,pos=pos_hour,radius=-count)\n",
        "def drawminuteHand():\n",
        "\tdraw(color=[0,1,0],object=minuteHandIndex,pos=pos_min,radius=-count*60)\t\n",
        " \n",
        "# display\n",
        "def glutPostRedisplay():\n",
        "  img_buf = glReadPixelsub(0, 0, WIDTH, HEIGHT, GL_RGB, GL_UNSIGNED_BYTE)\n",
        "  img = np.frombuffer(img_buf, np.uint8).reshape(HEIGHT, WIDTH, 3)[::-1]\n",
        "  show.image(img/255.0)\n",
        "  time.sleep(0.1)\n",
        "  clear_output(wait=True)  \n",
        "\n",
        "def dispaly_start(w,h):\n",
        "  global WIDTH, HEIGHT\n",
        "  WIDTH, HEIGHT = w, h\n",
        "  create_opengl_context((WIDTH, HEIGHT))     \n",
        "  # print(glGetString(GL_VERSION))\n",
        "  # print(glGetString(GL_VENDOR)) \n",
        "\n",
        "def display():\n",
        "  global count\n",
        "  dispaly_start(600,600)\n",
        "  time_tmp = time.time()\n",
        "  for count in np.linspace(0.0, 0.1, num=100):\n",
        "    glClear(GL_COLOR_BUFFER_BIT)\n",
        "    drawBody()\n",
        "    drawhourHand()\n",
        "    drawminuteHand()\n",
        "    glutPostRedisplay()\n",
        "    while (time.time()-time_tmp)<1:\n",
        "      time.sleep(0.2)\n",
        "    time_tmp = time.time()"
      ],
      "execution_count": 4,
      "outputs": []
    },
    {
      "cell_type": "code",
      "metadata": {
        "colab": {
          "base_uri": "https://localhost:8080/",
          "height": 621
        },
        "id": "xiLbQ4cklqaJ",
        "outputId": "e5adc81a-6202-45db-f2f2-c7640c1d9d00"
      },
      "source": [
        "display()"
      ],
      "execution_count": 5,
      "outputs": [
        {
          "output_type": "display_data",
          "data": {
            "text/html": [
              "<img src=\"data:image/PNG;base64,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\" style=\"image-rendering: pixelated; image-rendering: crisp-edges;\">"
            ],
            "text/plain": [
              "<IPython.core.display.HTML object>"
            ]
          },
          "metadata": {}
        }
      ]
    }
  ]
}